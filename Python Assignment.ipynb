{
 "cells": [
  {
   "cell_type": "code",
   "execution_count": 1,
   "metadata": {
    "ExecuteTime": {
     "end_time": "2024-11-10T19:02:37.216965Z",
     "start_time": "2024-11-10T19:02:36.816884Z"
    }
   },
   "outputs": [],
   "source": [
    "import numpy as np\n",
    "import pandas as pd\n",
    "\n",
    "import json\n",
    "\n",
    "from datetime import datetime, timedelta"
   ]
  },
  {
   "cell_type": "code",
   "execution_count": 2,
   "metadata": {
    "ExecuteTime": {
     "end_time": "2024-11-10T19:02:37.258906Z",
     "start_time": "2024-11-10T19:02:37.216965Z"
    }
   },
   "outputs": [],
   "source": [
    "features = pd.read_excel('features.xlsx')"
   ]
  },
  {
   "cell_type": "code",
   "execution_count": 3,
   "metadata": {
    "ExecuteTime": {
     "end_time": "2024-11-10T19:02:37.267440Z",
     "start_time": "2024-11-10T19:02:37.262823Z"
    }
   },
   "outputs": [],
   "source": [
    "# print(features)"
   ]
  },
  {
   "cell_type": "markdown",
   "metadata": {},
   "source": [
    "## Task Description"
   ]
  },
  {
   "cell_type": "code",
   "execution_count": 4,
   "metadata": {
    "ExecuteTime": {
     "end_time": "2024-11-10T19:02:37.286011Z",
     "start_time": "2024-11-10T19:02:37.269442Z"
    }
   },
   "outputs": [
    {
     "name": "stdout",
     "output_type": "stream",
     "text": [
      "Description: number of claims for last 180 days\n",
      "Source: contracts\n",
      "Key fields: claim_id, claim_date\n",
      "Special notes: \n",
      "1. In case claim date is null, don't take into consideration such claims. \n",
      " In case no claims, then put -3 as a value of this feature.\n",
      "\n",
      "************\n",
      "Description: Sum of exposue of loans without TBC loans. Exposure means here field \"loan_summa\".\n",
      "Source: contracts\n",
      "Key fields: bank, loan_summa, contract_date\n",
      "Special notes: \n",
      "1. Consider only loans where field \"bank\" is not in ['LIZ', 'LOM', 'MKO', 'SUG', null].\n",
      "2. Disbursed loans means loans where contract_date is not null \n",
      " In case no claims, then put -3 as a value of this feature.\n",
      "If no loans at all, then put -1 as a value of this feature.\n",
      "\n",
      "************\n",
      "Description: Number of days since last loan. \n",
      "Source: contracts\n",
      "Key fields: contract_date, summa\n",
      "Special notes:\n",
      "1. Take last loan of client where summa is not null and calculate number of days from contract_date of this loan to application date. \n",
      " In case no claims at all, then put -3 as a value of this feature.\n",
      "In case no loans at all, then put -1 as a value of this feature.\n",
      "\n",
      "************\n"
     ]
    }
   ],
   "source": [
    "for i in range(len(features)):\n",
    "    print(features['Logic'][i], '\\n', features['If missing value'][i])\n",
    "    print()\n",
    "    print('************')"
   ]
  },
  {
   "cell_type": "markdown",
   "metadata": {},
   "source": [
    "## Useful functions"
   ]
  },
  {
   "cell_type": "code",
   "execution_count": 5,
   "metadata": {
    "ExecuteTime": {
     "end_time": "2024-11-10T19:02:37.293212Z",
     "start_time": "2024-11-10T19:02:37.287011Z"
    }
   },
   "outputs": [],
   "source": [
    "# replace '' strings with np.nan if any exists\n",
    "# drop np.nan values and reindex the dataframe\n",
    "def clean_data(df, column_name):\n",
    "    df.replace('', np.nan, inplace=True)\n",
    "    df.dropna(subset=column_name, inplace=True)\n",
    "    df.drop_duplicates(inplace=True)\n",
    "    df.reset_index(drop=True, inplace=True)\n",
    "    return df"
   ]
  },
  {
   "cell_type": "code",
   "execution_count": 6,
   "metadata": {
    "ExecuteTime": {
     "end_time": "2024-11-10T19:02:37.308221Z",
     "start_time": "2024-11-10T19:02:37.293212Z"
    }
   },
   "outputs": [],
   "source": [
    "def flatten_contracts(df, column_name, contracts_list = []):\n",
    "    for contracts in df[column_name]:\n",
    "        if isinstance(contracts, list):\n",
    "            for contract in contracts:\n",
    "                contracts_list.append(contract)\n",
    "        elif isinstance(contracts, dict):\n",
    "            contracts_list.append(contracts)\n",
    "    \n",
    "    return contracts_list"
   ]
  },
  {
   "cell_type": "code",
   "execution_count": 7,
   "metadata": {
    "ExecuteTime": {
     "end_time": "2024-11-10T19:02:37.320317Z",
     "start_time": "2024-11-10T19:02:37.308221Z"
    }
   },
   "outputs": [],
   "source": [
    "# convert a list of dictionaries to dataframe\n",
    "def list_to_dataframe(list_of_data):\n",
    "    df = pd.DataFrame(list_of_data)\n",
    "    return df"
   ]
  },
  {
   "cell_type": "code",
   "execution_count": 8,
   "metadata": {
    "ExecuteTime": {
     "end_time": "2024-11-10T19:02:37.335812Z",
     "start_time": "2024-11-10T19:02:37.320317Z"
    }
   },
   "outputs": [],
   "source": [
    "def convert_to_datetime(df, column_names):\n",
    "    if isinstance(column_names, list):\n",
    "        for column_name in column_names:\n",
    "            df[column_name] = pd.to_datetime(df[column_name])\n",
    "    else:\n",
    "        df[column_names] = pd.to_datetime(df[column_names])\n",
    "    return df"
   ]
  },
  {
   "cell_type": "markdown",
   "metadata": {},
   "source": [
    "## Loading and cleaning the data"
   ]
  },
  {
   "cell_type": "code",
   "execution_count": 9,
   "metadata": {
    "ExecuteTime": {
     "end_time": "2024-11-10T19:02:37.368136Z",
     "start_time": "2024-11-10T19:02:37.335812Z"
    }
   },
   "outputs": [
    {
     "data": {
      "text/html": [
       "<div>\n",
       "<style scoped>\n",
       "    .dataframe tbody tr th:only-of-type {\n",
       "        vertical-align: middle;\n",
       "    }\n",
       "\n",
       "    .dataframe tbody tr th {\n",
       "        vertical-align: top;\n",
       "    }\n",
       "\n",
       "    .dataframe thead th {\n",
       "        text-align: right;\n",
       "    }\n",
       "</style>\n",
       "<table border=\"1\" class=\"dataframe\">\n",
       "  <thead>\n",
       "    <tr style=\"text-align: right;\">\n",
       "      <th></th>\n",
       "      <th>id</th>\n",
       "      <th>application_date</th>\n",
       "      <th>contracts</th>\n",
       "    </tr>\n",
       "  </thead>\n",
       "  <tbody>\n",
       "    <tr>\n",
       "      <th>0</th>\n",
       "      <td>2925210.0</td>\n",
       "      <td>2024-02-12 19:22:46.652000+00:00</td>\n",
       "      <td>NaN</td>\n",
       "    </tr>\n",
       "    <tr>\n",
       "      <th>1</th>\n",
       "      <td>2925211.0</td>\n",
       "      <td>2024-02-12 19:24:29.135000+00:00</td>\n",
       "      <td>[{\"contract_id\": 522530, \"bank\": \"003\", \"summa...</td>\n",
       "    </tr>\n",
       "    <tr>\n",
       "      <th>2</th>\n",
       "      <td>2925212.0</td>\n",
       "      <td>2024-02-12 19:24:41.493000+00:00</td>\n",
       "      <td>NaN</td>\n",
       "    </tr>\n",
       "    <tr>\n",
       "      <th>3</th>\n",
       "      <td>2925213.0</td>\n",
       "      <td>2024-02-12 19:24:29.135000+00:00</td>\n",
       "      <td>[{\"contract_id\": 522530, \"bank\": \"003\", \"summa...</td>\n",
       "    </tr>\n",
       "    <tr>\n",
       "      <th>4</th>\n",
       "      <td>2925214.0</td>\n",
       "      <td>2024-02-12 19:24:56.857000+00:00</td>\n",
       "      <td>NaN</td>\n",
       "    </tr>\n",
       "  </tbody>\n",
       "</table>\n",
       "</div>"
      ],
      "text/plain": [
       "          id                  application_date  \\\n",
       "0  2925210.0  2024-02-12 19:22:46.652000+00:00   \n",
       "1  2925211.0  2024-02-12 19:24:29.135000+00:00   \n",
       "2  2925212.0  2024-02-12 19:24:41.493000+00:00   \n",
       "3  2925213.0  2024-02-12 19:24:29.135000+00:00   \n",
       "4  2925214.0  2024-02-12 19:24:56.857000+00:00   \n",
       "\n",
       "                                           contracts  \n",
       "0                                                NaN  \n",
       "1  [{\"contract_id\": 522530, \"bank\": \"003\", \"summa...  \n",
       "2                                                NaN  \n",
       "3  [{\"contract_id\": 522530, \"bank\": \"003\", \"summa...  \n",
       "4                                                NaN  "
      ]
     },
     "execution_count": 9,
     "metadata": {},
     "output_type": "execute_result"
    }
   ],
   "source": [
    "data = pd.read_csv(\"data.csv\")\n",
    "data.head()"
   ]
  },
  {
   "cell_type": "code",
   "execution_count": 10,
   "metadata": {
    "ExecuteTime": {
     "end_time": "2024-11-10T19:02:37.391915Z",
     "start_time": "2024-11-10T19:02:37.369127Z"
    }
   },
   "outputs": [
    {
     "data": {
      "text/html": [
       "<div>\n",
       "<style scoped>\n",
       "    .dataframe tbody tr th:only-of-type {\n",
       "        vertical-align: middle;\n",
       "    }\n",
       "\n",
       "    .dataframe tbody tr th {\n",
       "        vertical-align: top;\n",
       "    }\n",
       "\n",
       "    .dataframe thead th {\n",
       "        text-align: right;\n",
       "    }\n",
       "</style>\n",
       "<table border=\"1\" class=\"dataframe\">\n",
       "  <thead>\n",
       "    <tr style=\"text-align: right;\">\n",
       "      <th></th>\n",
       "      <th>id</th>\n",
       "      <th>application_date</th>\n",
       "      <th>contracts</th>\n",
       "    </tr>\n",
       "  </thead>\n",
       "  <tbody>\n",
       "    <tr>\n",
       "      <th>0</th>\n",
       "      <td>2925211.0</td>\n",
       "      <td>2024-02-12 19:24:29.135000+00:00</td>\n",
       "      <td>[{\"contract_id\": 522530, \"bank\": \"003\", \"summa...</td>\n",
       "    </tr>\n",
       "    <tr>\n",
       "      <th>1</th>\n",
       "      <td>2925213.0</td>\n",
       "      <td>2024-02-12 19:24:29.135000+00:00</td>\n",
       "      <td>[{\"contract_id\": 522530, \"bank\": \"003\", \"summa...</td>\n",
       "    </tr>\n",
       "    <tr>\n",
       "      <th>2</th>\n",
       "      <td>2925215.0</td>\n",
       "      <td>2024-02-12 19:25:10.176000+00:00</td>\n",
       "      <td>[{\"contract_id\": 522530, \"bank\": \"003\", \"summa...</td>\n",
       "    </tr>\n",
       "    <tr>\n",
       "      <th>3</th>\n",
       "      <td>2925216.0</td>\n",
       "      <td>2024-02-12 19:25:10.176000+00:00</td>\n",
       "      <td>[{\"contract_id\": 522530, \"bank\": \"003\", \"summa...</td>\n",
       "    </tr>\n",
       "    <tr>\n",
       "      <th>4</th>\n",
       "      <td>2925218.0</td>\n",
       "      <td>2024-02-12 19:40:15.507000+00:00</td>\n",
       "      <td>[{\"contract_id\": \"\", \"bank\": \"062\", \"summa\": \"...</td>\n",
       "    </tr>\n",
       "  </tbody>\n",
       "</table>\n",
       "</div>"
      ],
      "text/plain": [
       "          id                  application_date  \\\n",
       "0  2925211.0  2024-02-12 19:24:29.135000+00:00   \n",
       "1  2925213.0  2024-02-12 19:24:29.135000+00:00   \n",
       "2  2925215.0  2024-02-12 19:25:10.176000+00:00   \n",
       "3  2925216.0  2024-02-12 19:25:10.176000+00:00   \n",
       "4  2925218.0  2024-02-12 19:40:15.507000+00:00   \n",
       "\n",
       "                                           contracts  \n",
       "0  [{\"contract_id\": 522530, \"bank\": \"003\", \"summa...  \n",
       "1  [{\"contract_id\": 522530, \"bank\": \"003\", \"summa...  \n",
       "2  [{\"contract_id\": 522530, \"bank\": \"003\", \"summa...  \n",
       "3  [{\"contract_id\": 522530, \"bank\": \"003\", \"summa...  \n",
       "4  [{\"contract_id\": \"\", \"bank\": \"062\", \"summa\": \"...  "
      ]
     },
     "execution_count": 10,
     "metadata": {},
     "output_type": "execute_result"
    }
   ],
   "source": [
    "# Remove Nan values\n",
    "clean_data(data, ['contracts']).head()"
   ]
  },
  {
   "cell_type": "code",
   "execution_count": 11,
   "metadata": {
    "ExecuteTime": {
     "end_time": "2024-11-10T19:02:37.550758Z",
     "start_time": "2024-11-10T19:02:37.391915Z"
    }
   },
   "outputs": [
    {
     "data": {
      "text/html": [
       "<div>\n",
       "<style scoped>\n",
       "    .dataframe tbody tr th:only-of-type {\n",
       "        vertical-align: middle;\n",
       "    }\n",
       "\n",
       "    .dataframe tbody tr th {\n",
       "        vertical-align: top;\n",
       "    }\n",
       "\n",
       "    .dataframe thead th {\n",
       "        text-align: right;\n",
       "    }\n",
       "</style>\n",
       "<table border=\"1\" class=\"dataframe\">\n",
       "  <thead>\n",
       "    <tr style=\"text-align: right;\">\n",
       "      <th></th>\n",
       "      <th>id</th>\n",
       "      <th>application_date</th>\n",
       "      <th>contracts</th>\n",
       "    </tr>\n",
       "  </thead>\n",
       "  <tbody>\n",
       "    <tr>\n",
       "      <th>0</th>\n",
       "      <td>2925211.0</td>\n",
       "      <td>2024-02-12 19:24:29.135000+00:00</td>\n",
       "      <td>[{'contract_id': 522530, 'bank': '003', 'summa...</td>\n",
       "    </tr>\n",
       "    <tr>\n",
       "      <th>1</th>\n",
       "      <td>2925213.0</td>\n",
       "      <td>2024-02-12 19:24:29.135000+00:00</td>\n",
       "      <td>[{'contract_id': 522530, 'bank': '003', 'summa...</td>\n",
       "    </tr>\n",
       "    <tr>\n",
       "      <th>2</th>\n",
       "      <td>2925215.0</td>\n",
       "      <td>2024-02-12 19:25:10.176000+00:00</td>\n",
       "      <td>[{'contract_id': 522530, 'bank': '003', 'summa...</td>\n",
       "    </tr>\n",
       "    <tr>\n",
       "      <th>3</th>\n",
       "      <td>2925216.0</td>\n",
       "      <td>2024-02-12 19:25:10.176000+00:00</td>\n",
       "      <td>[{'contract_id': 522530, 'bank': '003', 'summa...</td>\n",
       "    </tr>\n",
       "    <tr>\n",
       "      <th>4</th>\n",
       "      <td>2925218.0</td>\n",
       "      <td>2024-02-12 19:40:15.507000+00:00</td>\n",
       "      <td>[{'contract_id': '', 'bank': '062', 'summa': '...</td>\n",
       "    </tr>\n",
       "  </tbody>\n",
       "</table>\n",
       "</div>"
      ],
      "text/plain": [
       "          id                  application_date  \\\n",
       "0  2925211.0  2024-02-12 19:24:29.135000+00:00   \n",
       "1  2925213.0  2024-02-12 19:24:29.135000+00:00   \n",
       "2  2925215.0  2024-02-12 19:25:10.176000+00:00   \n",
       "3  2925216.0  2024-02-12 19:25:10.176000+00:00   \n",
       "4  2925218.0  2024-02-12 19:40:15.507000+00:00   \n",
       "\n",
       "                                           contracts  \n",
       "0  [{'contract_id': 522530, 'bank': '003', 'summa...  \n",
       "1  [{'contract_id': 522530, 'bank': '003', 'summa...  \n",
       "2  [{'contract_id': 522530, 'bank': '003', 'summa...  \n",
       "3  [{'contract_id': 522530, 'bank': '003', 'summa...  \n",
       "4  [{'contract_id': '', 'bank': '062', 'summa': '...  "
      ]
     },
     "execution_count": 11,
     "metadata": {},
     "output_type": "execute_result"
    }
   ],
   "source": [
    "# json loads\n",
    "data['contracts'] = data['contracts'].apply(lambda x: json.loads(x) if pd.notnull(x) else np.nan)\n",
    "data.head()"
   ]
  },
  {
   "cell_type": "code",
   "execution_count": 12,
   "metadata": {
    "ExecuteTime": {
     "end_time": "2024-11-10T19:02:37.566329Z",
     "start_time": "2024-11-10T19:02:37.551757Z"
    }
   },
   "outputs": [],
   "source": [
    "# flatten_contracts(data, 'contracts')"
   ]
  },
  {
   "cell_type": "code",
   "execution_count": 13,
   "metadata": {
    "ExecuteTime": {
     "end_time": "2024-11-10T19:02:37.601485Z",
     "start_time": "2024-11-10T19:02:37.567264Z"
    }
   },
   "outputs": [
    {
     "data": {
      "text/html": [
       "<div>\n",
       "<style scoped>\n",
       "    .dataframe tbody tr th:only-of-type {\n",
       "        vertical-align: middle;\n",
       "    }\n",
       "\n",
       "    .dataframe tbody tr th {\n",
       "        vertical-align: top;\n",
       "    }\n",
       "\n",
       "    .dataframe thead th {\n",
       "        text-align: right;\n",
       "    }\n",
       "</style>\n",
       "<table border=\"1\" class=\"dataframe\">\n",
       "  <thead>\n",
       "    <tr style=\"text-align: right;\">\n",
       "      <th></th>\n",
       "      <th>contract_id</th>\n",
       "      <th>bank</th>\n",
       "      <th>summa</th>\n",
       "      <th>loan_summa</th>\n",
       "      <th>claim_date</th>\n",
       "      <th>claim_id</th>\n",
       "      <th>contract_date</th>\n",
       "    </tr>\n",
       "  </thead>\n",
       "  <tbody>\n",
       "    <tr>\n",
       "      <th>0</th>\n",
       "      <td>522530</td>\n",
       "      <td>003</td>\n",
       "      <td>500000000</td>\n",
       "      <td>0</td>\n",
       "      <td>13.02.2020</td>\n",
       "      <td>609965</td>\n",
       "      <td>17.02.2020</td>\n",
       "    </tr>\n",
       "    <tr>\n",
       "      <th>1</th>\n",
       "      <td></td>\n",
       "      <td>014</td>\n",
       "      <td></td>\n",
       "      <td></td>\n",
       "      <td>28.08.2020</td>\n",
       "      <td>F00013731</td>\n",
       "      <td></td>\n",
       "    </tr>\n",
       "    <tr>\n",
       "      <th>2</th>\n",
       "      <td></td>\n",
       "      <td>014</td>\n",
       "      <td></td>\n",
       "      <td></td>\n",
       "      <td>08.10.2020</td>\n",
       "      <td>F00021301</td>\n",
       "      <td></td>\n",
       "    </tr>\n",
       "    <tr>\n",
       "      <th>3</th>\n",
       "      <td></td>\n",
       "      <td>014</td>\n",
       "      <td></td>\n",
       "      <td></td>\n",
       "      <td>25.11.2020</td>\n",
       "      <td>F00037907</td>\n",
       "      <td></td>\n",
       "    </tr>\n",
       "    <tr>\n",
       "      <th>4</th>\n",
       "      <td></td>\n",
       "      <td>053</td>\n",
       "      <td></td>\n",
       "      <td></td>\n",
       "      <td>09.12.2020</td>\n",
       "      <td>34852</td>\n",
       "      <td></td>\n",
       "    </tr>\n",
       "  </tbody>\n",
       "</table>\n",
       "</div>"
      ],
      "text/plain": [
       "  contract_id bank      summa loan_summa  claim_date   claim_id contract_date\n",
       "0      522530  003  500000000          0  13.02.2020     609965    17.02.2020\n",
       "1              014                        28.08.2020  F00013731              \n",
       "2              014                        08.10.2020  F00021301              \n",
       "3              014                        25.11.2020  F00037907              \n",
       "4              053                        09.12.2020      34852              "
      ]
     },
     "execution_count": 13,
     "metadata": {},
     "output_type": "execute_result"
    }
   ],
   "source": [
    "# create dataframe using 'contracts' value\n",
    "contracts_df = list_to_dataframe(flatten_contracts(data, 'contracts'))\n",
    "contracts_df.head()"
   ]
  },
  {
   "cell_type": "code",
   "execution_count": 14,
   "metadata": {
    "ExecuteTime": {
     "end_time": "2024-11-10T19:02:37.617147Z",
     "start_time": "2024-11-10T19:02:37.602485Z"
    }
   },
   "outputs": [
    {
     "data": {
      "text/plain": [
       "(9270, 7)"
      ]
     },
     "execution_count": 14,
     "metadata": {},
     "output_type": "execute_result"
    }
   ],
   "source": [
    "contracts_df.shape"
   ]
  },
  {
   "cell_type": "code",
   "execution_count": 15,
   "metadata": {
    "ExecuteTime": {
     "end_time": "2024-11-10T19:02:37.625345Z",
     "start_time": "2024-11-10T19:02:37.618143Z"
    }
   },
   "outputs": [],
   "source": [
    "# # clean the dataframe and remove empty values\n",
    "# df_cleaned = clean_data(contracts_df, column_name=['contract_id'])\n",
    "# df_cleaned.head()  "
   ]
  },
  {
   "cell_type": "code",
   "execution_count": 16,
   "metadata": {
    "ExecuteTime": {
     "end_time": "2024-11-10T19:02:37.639559Z",
     "start_time": "2024-11-10T19:02:37.625345Z"
    }
   },
   "outputs": [],
   "source": [
    "# df_cleaned.shape"
   ]
  },
  {
   "cell_type": "code",
   "execution_count": 17,
   "metadata": {
    "ExecuteTime": {
     "end_time": "2024-11-10T19:02:37.654932Z",
     "start_time": "2024-11-10T19:02:37.639559Z"
    }
   },
   "outputs": [
    {
     "name": "stdout",
     "output_type": "stream",
     "text": [
      "<class 'str'>\n",
      "<class 'str'>\n"
     ]
    }
   ],
   "source": [
    "print(type(contracts_df['claim_date'][0]))\n",
    "print(type(contracts_df['contract_date'][0]))"
   ]
  },
  {
   "cell_type": "code",
   "execution_count": 18,
   "metadata": {
    "ExecuteTime": {
     "end_time": "2024-11-10T19:02:37.688782Z",
     "start_time": "2024-11-10T19:02:37.656044Z"
    }
   },
   "outputs": [
    {
     "data": {
      "text/html": [
       "<div>\n",
       "<style scoped>\n",
       "    .dataframe tbody tr th:only-of-type {\n",
       "        vertical-align: middle;\n",
       "    }\n",
       "\n",
       "    .dataframe tbody tr th {\n",
       "        vertical-align: top;\n",
       "    }\n",
       "\n",
       "    .dataframe thead th {\n",
       "        text-align: right;\n",
       "    }\n",
       "</style>\n",
       "<table border=\"1\" class=\"dataframe\">\n",
       "  <thead>\n",
       "    <tr style=\"text-align: right;\">\n",
       "      <th></th>\n",
       "      <th>contract_id</th>\n",
       "      <th>bank</th>\n",
       "      <th>summa</th>\n",
       "      <th>loan_summa</th>\n",
       "      <th>claim_date</th>\n",
       "      <th>claim_id</th>\n",
       "      <th>contract_date</th>\n",
       "    </tr>\n",
       "  </thead>\n",
       "  <tbody>\n",
       "    <tr>\n",
       "      <th>0</th>\n",
       "      <td>522530</td>\n",
       "      <td>003</td>\n",
       "      <td>500000000</td>\n",
       "      <td>0</td>\n",
       "      <td>2020-02-13</td>\n",
       "      <td>609965</td>\n",
       "      <td>2020-02-17</td>\n",
       "    </tr>\n",
       "    <tr>\n",
       "      <th>1</th>\n",
       "      <td></td>\n",
       "      <td>014</td>\n",
       "      <td></td>\n",
       "      <td></td>\n",
       "      <td>2020-08-28</td>\n",
       "      <td>F00013731</td>\n",
       "      <td>NaT</td>\n",
       "    </tr>\n",
       "    <tr>\n",
       "      <th>2</th>\n",
       "      <td></td>\n",
       "      <td>014</td>\n",
       "      <td></td>\n",
       "      <td></td>\n",
       "      <td>2020-08-10</td>\n",
       "      <td>F00021301</td>\n",
       "      <td>NaT</td>\n",
       "    </tr>\n",
       "    <tr>\n",
       "      <th>3</th>\n",
       "      <td></td>\n",
       "      <td>014</td>\n",
       "      <td></td>\n",
       "      <td></td>\n",
       "      <td>2020-11-25</td>\n",
       "      <td>F00037907</td>\n",
       "      <td>NaT</td>\n",
       "    </tr>\n",
       "    <tr>\n",
       "      <th>4</th>\n",
       "      <td></td>\n",
       "      <td>053</td>\n",
       "      <td></td>\n",
       "      <td></td>\n",
       "      <td>2020-09-12</td>\n",
       "      <td>34852</td>\n",
       "      <td>NaT</td>\n",
       "    </tr>\n",
       "  </tbody>\n",
       "</table>\n",
       "</div>"
      ],
      "text/plain": [
       "  contract_id bank      summa loan_summa claim_date   claim_id contract_date\n",
       "0      522530  003  500000000          0 2020-02-13     609965    2020-02-17\n",
       "1              014                       2020-08-28  F00013731           NaT\n",
       "2              014                       2020-08-10  F00021301           NaT\n",
       "3              014                       2020-11-25  F00037907           NaT\n",
       "4              053                       2020-09-12      34852           NaT"
      ]
     },
     "execution_count": 18,
     "metadata": {},
     "output_type": "execute_result"
    }
   ],
   "source": [
    "columns_to_clean = ['claim_date', 'contract_date']\n",
    "convert_to_datetime(contracts_df, columns_to_clean)\n",
    "contracts_df.head()"
   ]
  },
  {
   "cell_type": "code",
   "execution_count": 19,
   "metadata": {
    "ExecuteTime": {
     "end_time": "2024-11-10T19:02:37.704420Z",
     "start_time": "2024-11-10T19:02:37.689507Z"
    }
   },
   "outputs": [
    {
     "name": "stdout",
     "output_type": "stream",
     "text": [
      "<class 'pandas._libs.tslibs.timestamps.Timestamp'>\n",
      "<class 'pandas._libs.tslibs.timestamps.Timestamp'>\n"
     ]
    }
   ],
   "source": [
    "print(type(contracts_df['claim_date'][0]))\n",
    "print(type(contracts_df['contract_date'][0]))"
   ]
  },
  {
   "cell_type": "markdown",
   "metadata": {},
   "source": [
    "### number of claims for last 180 days"
   ]
  },
  {
   "cell_type": "code",
   "execution_count": 20,
   "metadata": {
    "ExecuteTime": {
     "end_time": "2024-11-10T19:02:37.721270Z",
     "start_time": "2024-11-10T19:02:37.706418Z"
    }
   },
   "outputs": [
    {
     "name": "stdout",
     "output_type": "stream",
     "text": [
      "Description: number of claims for last 180 days\n",
      "Source: contracts\n",
      "Key fields: claim_id, claim_date\n",
      "Special notes: \n",
      "1. In case claim date is null, don't take into consideration such claims. \n",
      " In case no claims, then put -3 as a value of this feature.\n"
     ]
    }
   ],
   "source": [
    "print(features['Logic'][0], '\\n', features['If missing value'][0])"
   ]
  },
  {
   "cell_type": "code",
   "execution_count": 21,
   "metadata": {
    "ExecuteTime": {
     "end_time": "2024-11-10T19:02:37.736802Z",
     "start_time": "2024-11-10T19:02:37.721270Z"
    }
   },
   "outputs": [],
   "source": [
    "df_claims = contracts_df.drop_duplicates(subset='claim_id')"
   ]
  },
  {
   "cell_type": "code",
   "execution_count": 22,
   "metadata": {
    "ExecuteTime": {
     "end_time": "2024-11-10T19:02:37.757514Z",
     "start_time": "2024-11-10T19:02:37.741796Z"
    }
   },
   "outputs": [
    {
     "name": "stderr",
     "output_type": "stream",
     "text": [
      "<ipython-input-22-5dcd51b7a0f0>:2: SettingWithCopyWarning: \n",
      "A value is trying to be set on a copy of a slice from a DataFrame.\n",
      "Try using .loc[row_indexer,col_indexer] = value instead\n",
      "\n",
      "See the caveats in the documentation: https://pandas.pydata.org/pandas-docs/stable/user_guide/indexing.html#returning-a-view-versus-a-copy\n",
      "  df_claims['days_since_claim'] = (datetime.today() - df_claims['claim_date']).dt.days\n"
     ]
    }
   ],
   "source": [
    "# difference between the claim_date and today's date in days\n",
    "df_claims['days_since_claim'] = (datetime.today() - df_claims['claim_date']).dt.days"
   ]
  },
  {
   "cell_type": "code",
   "execution_count": 23,
   "metadata": {
    "ExecuteTime": {
     "end_time": "2024-11-10T19:02:37.773043Z",
     "start_time": "2024-11-10T19:02:37.757514Z"
    }
   },
   "outputs": [
    {
     "name": "stderr",
     "output_type": "stream",
     "text": [
      "<ipython-input-23-94f51db42769>:1: SettingWithCopyWarning: \n",
      "A value is trying to be set on a copy of a slice from a DataFrame.\n",
      "Try using .loc[row_indexer,col_indexer] = value instead\n",
      "\n",
      "See the caveats in the documentation: https://pandas.pydata.org/pandas-docs/stable/user_guide/indexing.html#returning-a-view-versus-a-copy\n",
      "  df_claims['claim_flag'] = [1 if days <= 180 else 0 for days in df_claims['days_since_claim']]\n"
     ]
    }
   ],
   "source": [
    "df_claims['claim_flag'] = [1 if days <= 180 else 0 for days in df_claims['days_since_claim']]"
   ]
  },
  {
   "cell_type": "code",
   "execution_count": 24,
   "metadata": {
    "ExecuteTime": {
     "end_time": "2024-11-10T19:02:37.781817Z",
     "start_time": "2024-11-10T19:02:37.774039Z"
    }
   },
   "outputs": [
    {
     "name": "stdout",
     "output_type": "stream",
     "text": [
      "tot_claim_cnt_l180d\n"
     ]
    }
   ],
   "source": [
    "print(features['Feature'][0])"
   ]
  },
  {
   "cell_type": "code",
   "execution_count": 25,
   "metadata": {
    "ExecuteTime": {
     "end_time": "2024-11-10T19:02:37.797828Z",
     "start_time": "2024-11-10T19:02:37.783819Z"
    }
   },
   "outputs": [
    {
     "name": "stdout",
     "output_type": "stream",
     "text": [
      "number of claims for last 180 days: 117\n"
     ]
    }
   ],
   "source": [
    "tot_claim_cnt_l180d = [df_claims['claim_flag'].sum() if df_claims['claim_flag'].sum() > 0 else -3]\n",
    "print('number of claims for last 180 days:', tot_claim_cnt_l180d[0])"
   ]
  },
  {
   "cell_type": "markdown",
   "metadata": {},
   "source": [
    "### Sum of exposue of loans"
   ]
  },
  {
   "cell_type": "code",
   "execution_count": 26,
   "metadata": {
    "ExecuteTime": {
     "end_time": "2024-11-10T19:02:37.813822Z",
     "start_time": "2024-11-10T19:02:37.800818Z"
    }
   },
   "outputs": [
    {
     "name": "stdout",
     "output_type": "stream",
     "text": [
      "Description: Sum of exposue of loans without TBC loans. Exposure means here field \"loan_summa\".\n",
      "Source: contracts\n",
      "Key fields: bank, loan_summa, contract_date\n",
      "Special notes: \n",
      "1. Consider only loans where field \"bank\" is not in ['LIZ', 'LOM', 'MKO', 'SUG', null].\n",
      "2. Disbursed loans means loans where contract_date is not null \n",
      " In case no claims, then put -3 as a value of this feature.\n",
      "If no loans at all, then put -1 as a value of this feature.\n"
     ]
    }
   ],
   "source": [
    "print(features['Logic'][1], '\\n', features['If missing value'][1])"
   ]
  },
  {
   "cell_type": "code",
   "execution_count": 27,
   "metadata": {
    "ExecuteTime": {
     "end_time": "2024-11-10T19:02:37.832809Z",
     "start_time": "2024-11-10T19:02:37.816191Z"
    }
   },
   "outputs": [],
   "source": [
    "# field \"bank\" is not in ['LIZ', 'LOM', 'MKO', 'SUG']\n",
    "df_loans = contracts_df[~contracts_df['bank'].isin(['LIZ', 'LOM', 'MKO', 'SUG'])]\n",
    "# null values should be handled separately\n",
    "df_loans = df_loans.dropna(subset=['bank'])"
   ]
  },
  {
   "cell_type": "code",
   "execution_count": 28,
   "metadata": {
    "ExecuteTime": {
     "end_time": "2024-11-10T19:02:37.865612Z",
     "start_time": "2024-11-10T19:02:37.833780Z"
    }
   },
   "outputs": [
    {
     "data": {
      "text/html": [
       "<div>\n",
       "<style scoped>\n",
       "    .dataframe tbody tr th:only-of-type {\n",
       "        vertical-align: middle;\n",
       "    }\n",
       "\n",
       "    .dataframe tbody tr th {\n",
       "        vertical-align: top;\n",
       "    }\n",
       "\n",
       "    .dataframe thead th {\n",
       "        text-align: right;\n",
       "    }\n",
       "</style>\n",
       "<table border=\"1\" class=\"dataframe\">\n",
       "  <thead>\n",
       "    <tr style=\"text-align: right;\">\n",
       "      <th></th>\n",
       "      <th>contract_id</th>\n",
       "      <th>bank</th>\n",
       "      <th>summa</th>\n",
       "      <th>loan_summa</th>\n",
       "      <th>claim_date</th>\n",
       "      <th>claim_id</th>\n",
       "      <th>contract_date</th>\n",
       "    </tr>\n",
       "  </thead>\n",
       "  <tbody>\n",
       "    <tr>\n",
       "      <th>0</th>\n",
       "      <td>522530.0</td>\n",
       "      <td>003</td>\n",
       "      <td>5.000000e+08</td>\n",
       "      <td>0.000000e+00</td>\n",
       "      <td>2020-02-13</td>\n",
       "      <td>609965</td>\n",
       "      <td>2020-02-17</td>\n",
       "    </tr>\n",
       "    <tr>\n",
       "      <th>1</th>\n",
       "      <td>35163.0</td>\n",
       "      <td>053</td>\n",
       "      <td>5.100000e+08</td>\n",
       "      <td>0.000000e+00</td>\n",
       "      <td>2020-12-15</td>\n",
       "      <td>35163</td>\n",
       "      <td>2020-12-21</td>\n",
       "    </tr>\n",
       "    <tr>\n",
       "      <th>2</th>\n",
       "      <td>500873.0</td>\n",
       "      <td>055</td>\n",
       "      <td>5.000000e+08</td>\n",
       "      <td>0.000000e+00</td>\n",
       "      <td>2022-09-12</td>\n",
       "      <td>451262</td>\n",
       "      <td>2022-12-12</td>\n",
       "    </tr>\n",
       "    <tr>\n",
       "      <th>3</th>\n",
       "      <td>95511.0</td>\n",
       "      <td>004</td>\n",
       "      <td>2.800000e+09</td>\n",
       "      <td>1.826667e+09</td>\n",
       "      <td>2022-08-11</td>\n",
       "      <td>95511</td>\n",
       "      <td>2022-08-11</td>\n",
       "    </tr>\n",
       "    <tr>\n",
       "      <th>4</th>\n",
       "      <td>414955.0</td>\n",
       "      <td>011</td>\n",
       "      <td>5.000000e+08</td>\n",
       "      <td>9.502356e+07</td>\n",
       "      <td>2023-05-04</td>\n",
       "      <td>2411695</td>\n",
       "      <td>2023-05-04</td>\n",
       "    </tr>\n",
       "    <tr>\n",
       "      <th>...</th>\n",
       "      <td>...</td>\n",
       "      <td>...</td>\n",
       "      <td>...</td>\n",
       "      <td>...</td>\n",
       "      <td>...</td>\n",
       "      <td>...</td>\n",
       "      <td>...</td>\n",
       "    </tr>\n",
       "    <tr>\n",
       "      <th>351</th>\n",
       "      <td>12144992.0</td>\n",
       "      <td>005</td>\n",
       "      <td>1.930000e+09</td>\n",
       "      <td>1.177375e+09</td>\n",
       "      <td>2022-10-21</td>\n",
       "      <td>3382076</td>\n",
       "      <td>2022-10-21</td>\n",
       "    </tr>\n",
       "    <tr>\n",
       "      <th>352</th>\n",
       "      <td>553516633.0</td>\n",
       "      <td>063</td>\n",
       "      <td>4.600000e+08</td>\n",
       "      <td>4.227725e+08</td>\n",
       "      <td>2023-09-10</td>\n",
       "      <td>553516633</td>\n",
       "      <td>2023-09-10</td>\n",
       "    </tr>\n",
       "    <tr>\n",
       "      <th>353</th>\n",
       "      <td>79365.0</td>\n",
       "      <td>014</td>\n",
       "      <td>3.400000e+08</td>\n",
       "      <td>3.305556e+08</td>\n",
       "      <td>2023-12-26</td>\n",
       "      <td>79365</td>\n",
       "      <td>2023-12-26</td>\n",
       "    </tr>\n",
       "    <tr>\n",
       "      <th>354</th>\n",
       "      <td>18410.0</td>\n",
       "      <td>004</td>\n",
       "      <td>4.916470e+07</td>\n",
       "      <td>0.000000e+00</td>\n",
       "      <td>2019-03-04</td>\n",
       "      <td>18410</td>\n",
       "      <td>2019-03-04</td>\n",
       "    </tr>\n",
       "    <tr>\n",
       "      <th>355</th>\n",
       "      <td>3304674.0</td>\n",
       "      <td>062</td>\n",
       "      <td>4.050000e+08</td>\n",
       "      <td>2.173209e+08</td>\n",
       "      <td>2022-02-14</td>\n",
       "      <td>3304674</td>\n",
       "      <td>2022-02-14</td>\n",
       "    </tr>\n",
       "  </tbody>\n",
       "</table>\n",
       "<p>356 rows × 7 columns</p>\n",
       "</div>"
      ],
      "text/plain": [
       "     contract_id bank         summa    loan_summa claim_date   claim_id  \\\n",
       "0       522530.0  003  5.000000e+08  0.000000e+00 2020-02-13     609965   \n",
       "1        35163.0  053  5.100000e+08  0.000000e+00 2020-12-15      35163   \n",
       "2       500873.0  055  5.000000e+08  0.000000e+00 2022-09-12     451262   \n",
       "3        95511.0  004  2.800000e+09  1.826667e+09 2022-08-11      95511   \n",
       "4       414955.0  011  5.000000e+08  9.502356e+07 2023-05-04    2411695   \n",
       "..           ...  ...           ...           ...        ...        ...   \n",
       "351   12144992.0  005  1.930000e+09  1.177375e+09 2022-10-21    3382076   \n",
       "352  553516633.0  063  4.600000e+08  4.227725e+08 2023-09-10  553516633   \n",
       "353      79365.0  014  3.400000e+08  3.305556e+08 2023-12-26      79365   \n",
       "354      18410.0  004  4.916470e+07  0.000000e+00 2019-03-04      18410   \n",
       "355    3304674.0  062  4.050000e+08  2.173209e+08 2022-02-14    3304674   \n",
       "\n",
       "    contract_date  \n",
       "0      2020-02-17  \n",
       "1      2020-12-21  \n",
       "2      2022-12-12  \n",
       "3      2022-08-11  \n",
       "4      2023-05-04  \n",
       "..            ...  \n",
       "351    2022-10-21  \n",
       "352    2023-09-10  \n",
       "353    2023-12-26  \n",
       "354    2019-03-04  \n",
       "355    2022-02-14  \n",
       "\n",
       "[356 rows x 7 columns]"
      ]
     },
     "execution_count": 28,
     "metadata": {},
     "output_type": "execute_result"
    }
   ],
   "source": [
    "# remove rows from df_loans dataframe where contract_date is null\n",
    "clean_data(df_loans, column_name=['contract_date'])"
   ]
  },
  {
   "cell_type": "code",
   "execution_count": 29,
   "metadata": {
    "ExecuteTime": {
     "end_time": "2024-11-10T19:02:37.881259Z",
     "start_time": "2024-11-10T19:02:37.865612Z"
    }
   },
   "outputs": [
    {
     "name": "stdout",
     "output_type": "stream",
     "text": [
      "disb_bank_loan_wo_tbc\n"
     ]
    }
   ],
   "source": [
    "print(features['Feature'][1])"
   ]
  },
  {
   "cell_type": "code",
   "execution_count": 30,
   "metadata": {
    "ExecuteTime": {
     "end_time": "2024-11-10T19:02:37.898409Z",
     "start_time": "2024-11-10T19:02:37.882817Z"
    }
   },
   "outputs": [
    {
     "data": {
      "text/plain": [
       "dtype('float64')"
      ]
     },
     "execution_count": 30,
     "metadata": {},
     "output_type": "execute_result"
    }
   ],
   "source": [
    "df_loans['loan_summa'].dtype"
   ]
  },
  {
   "cell_type": "code",
   "execution_count": 31,
   "metadata": {
    "ExecuteTime": {
     "end_time": "2024-11-10T19:02:37.914384Z",
     "start_time": "2024-11-10T19:02:37.898751Z"
    }
   },
   "outputs": [
    {
     "name": "stdout",
     "output_type": "stream",
     "text": [
      "Sum of exposue of loans without TBC loans: 303717438573.0\n"
     ]
    }
   ],
   "source": [
    "disb_bank_loan_wo_tbc = df_loans['loan_summa'].sum()\n",
    "\n",
    "if disb_bank_loan_wo_tbc == 0:\n",
    "    disb_bank_loan_wo_tbc = -1\n",
    "elif disb_bank_loan_wo_tbc == np.nan:\n",
    "    disb_bank_loan_wo_tbc = -3\n",
    "\n",
    "print('Sum of exposue of loans without TBC loans:', disb_bank_loan_wo_tbc)"
   ]
  },
  {
   "cell_type": "markdown",
   "metadata": {},
   "source": [
    "### Number of days since last loan"
   ]
  },
  {
   "cell_type": "code",
   "execution_count": 32,
   "metadata": {
    "ExecuteTime": {
     "end_time": "2024-11-10T19:02:37.930990Z",
     "start_time": "2024-11-10T19:02:37.915344Z"
    }
   },
   "outputs": [
    {
     "name": "stdout",
     "output_type": "stream",
     "text": [
      "Description: Number of days since last loan. \n",
      "Source: contracts\n",
      "Key fields: contract_date, summa\n",
      "Special notes:\n",
      "1. Take last loan of client where summa is not null and calculate number of days from contract_date of this loan to application date. \n",
      " In case no claims at all, then put -3 as a value of this feature.\n",
      "In case no loans at all, then put -1 as a value of this feature.\n"
     ]
    }
   ],
   "source": [
    "print(features['Logic'][2], '\\n', features['If missing value'][2])"
   ]
  },
  {
   "cell_type": "code",
   "execution_count": 33,
   "metadata": {
    "ExecuteTime": {
     "end_time": "2024-11-10T19:02:37.964397Z",
     "start_time": "2024-11-10T19:02:37.932010Z"
    }
   },
   "outputs": [
    {
     "data": {
      "text/html": [
       "<div>\n",
       "<style scoped>\n",
       "    .dataframe tbody tr th:only-of-type {\n",
       "        vertical-align: middle;\n",
       "    }\n",
       "\n",
       "    .dataframe tbody tr th {\n",
       "        vertical-align: top;\n",
       "    }\n",
       "\n",
       "    .dataframe thead th {\n",
       "        text-align: right;\n",
       "    }\n",
       "</style>\n",
       "<table border=\"1\" class=\"dataframe\">\n",
       "  <thead>\n",
       "    <tr style=\"text-align: right;\">\n",
       "      <th></th>\n",
       "      <th>contract_id</th>\n",
       "      <th>bank</th>\n",
       "      <th>summa</th>\n",
       "      <th>loan_summa</th>\n",
       "      <th>claim_date</th>\n",
       "      <th>claim_id</th>\n",
       "      <th>contract_date</th>\n",
       "    </tr>\n",
       "  </thead>\n",
       "  <tbody>\n",
       "    <tr>\n",
       "      <th>0</th>\n",
       "      <td>522530</td>\n",
       "      <td>003</td>\n",
       "      <td>5.000000e+08</td>\n",
       "      <td>0.000000e+00</td>\n",
       "      <td>2020-02-13</td>\n",
       "      <td>609965</td>\n",
       "      <td>2020-02-17</td>\n",
       "    </tr>\n",
       "    <tr>\n",
       "      <th>1</th>\n",
       "      <td>35163</td>\n",
       "      <td>053</td>\n",
       "      <td>5.100000e+08</td>\n",
       "      <td>0.000000e+00</td>\n",
       "      <td>2020-12-15</td>\n",
       "      <td>35163</td>\n",
       "      <td>2020-12-21</td>\n",
       "    </tr>\n",
       "    <tr>\n",
       "      <th>2</th>\n",
       "      <td>500873</td>\n",
       "      <td>055</td>\n",
       "      <td>5.000000e+08</td>\n",
       "      <td>0.000000e+00</td>\n",
       "      <td>2022-09-12</td>\n",
       "      <td>451262</td>\n",
       "      <td>2022-12-12</td>\n",
       "    </tr>\n",
       "    <tr>\n",
       "      <th>3</th>\n",
       "      <td>ac543274a1527329</td>\n",
       "      <td>NaN</td>\n",
       "      <td>2.065440e+08</td>\n",
       "      <td>9.999570e+07</td>\n",
       "      <td>2023-04-30</td>\n",
       "      <td>ac543274a1527329</td>\n",
       "      <td>2023-04-30</td>\n",
       "    </tr>\n",
       "    <tr>\n",
       "      <th>4</th>\n",
       "      <td>95511</td>\n",
       "      <td>004</td>\n",
       "      <td>2.800000e+09</td>\n",
       "      <td>1.826667e+09</td>\n",
       "      <td>2022-08-11</td>\n",
       "      <td>95511</td>\n",
       "      <td>2022-08-11</td>\n",
       "    </tr>\n",
       "  </tbody>\n",
       "</table>\n",
       "</div>"
      ],
      "text/plain": [
       "        contract_id bank         summa    loan_summa claim_date  \\\n",
       "0            522530  003  5.000000e+08  0.000000e+00 2020-02-13   \n",
       "1             35163  053  5.100000e+08  0.000000e+00 2020-12-15   \n",
       "2            500873  055  5.000000e+08  0.000000e+00 2022-09-12   \n",
       "3  ac543274a1527329  NaN  2.065440e+08  9.999570e+07 2023-04-30   \n",
       "4             95511  004  2.800000e+09  1.826667e+09 2022-08-11   \n",
       "\n",
       "           claim_id contract_date  \n",
       "0            609965    2020-02-17  \n",
       "1             35163    2020-12-21  \n",
       "2            451262    2022-12-12  \n",
       "3  ac543274a1527329    2023-04-30  \n",
       "4             95511    2022-08-11  "
      ]
     },
     "execution_count": 33,
     "metadata": {},
     "output_type": "execute_result"
    }
   ],
   "source": [
    "# remove rows where 'summa' is nan\n",
    "loans_df = clean_data(contracts_df, ['summa'])\n",
    "loans_df.head()"
   ]
  },
  {
   "cell_type": "code",
   "execution_count": 34,
   "metadata": {
    "ExecuteTime": {
     "end_time": "2024-11-10T19:02:37.981108Z",
     "start_time": "2024-11-10T19:02:37.965483Z"
    }
   },
   "outputs": [
    {
     "data": {
      "text/plain": [
       "dtype('float64')"
      ]
     },
     "execution_count": 34,
     "metadata": {},
     "output_type": "execute_result"
    }
   ],
   "source": [
    "loans_df['summa'].dtype"
   ]
  },
  {
   "cell_type": "code",
   "execution_count": 35,
   "metadata": {
    "ExecuteTime": {
     "end_time": "2024-11-10T19:02:37.997740Z",
     "start_time": "2024-11-10T19:02:37.982112Z"
    }
   },
   "outputs": [],
   "source": [
    "today = pd.to_datetime(datetime.today())\n",
    "\n",
    "# difference between today and contract_date calculating in days\n",
    "loans_df['day_since_last_loan'] = (today - loans_df['contract_date']).dt.days"
   ]
  },
  {
   "cell_type": "code",
   "execution_count": 36,
   "metadata": {
    "ExecuteTime": {
     "end_time": "2024-11-10T19:02:38.014454Z",
     "start_time": "2024-11-10T19:02:37.998820Z"
    }
   },
   "outputs": [],
   "source": [
    "# In case no claims at all, then put -3 as a value of this feature.\n",
    "loans_df.loc[loans_df['claim_id'].isnull() | (loans_df['claim_id'] == ''), 'day_since_last_loan'] = -3\n",
    "\n",
    "# In case no loans at all, then put -1 as a value of this feature.\n",
    "loans_df.loc[(loans_df['loan_summa'] == 0) | (loans_df['loan_summa'].isnull()), 'day_since_last_loan'] = -1"
   ]
  },
  {
   "cell_type": "code",
   "execution_count": 37,
   "metadata": {
    "ExecuteTime": {
     "end_time": "2024-11-10T19:02:38.047785Z",
     "start_time": "2024-11-10T19:02:38.015567Z"
    }
   },
   "outputs": [
    {
     "data": {
      "text/html": [
       "<div>\n",
       "<style scoped>\n",
       "    .dataframe tbody tr th:only-of-type {\n",
       "        vertical-align: middle;\n",
       "    }\n",
       "\n",
       "    .dataframe tbody tr th {\n",
       "        vertical-align: top;\n",
       "    }\n",
       "\n",
       "    .dataframe thead th {\n",
       "        text-align: right;\n",
       "    }\n",
       "</style>\n",
       "<table border=\"1\" class=\"dataframe\">\n",
       "  <thead>\n",
       "    <tr style=\"text-align: right;\">\n",
       "      <th></th>\n",
       "      <th>contract_id</th>\n",
       "      <th>bank</th>\n",
       "      <th>summa</th>\n",
       "      <th>loan_summa</th>\n",
       "      <th>claim_date</th>\n",
       "      <th>claim_id</th>\n",
       "      <th>contract_date</th>\n",
       "      <th>day_since_last_loan</th>\n",
       "    </tr>\n",
       "  </thead>\n",
       "  <tbody>\n",
       "    <tr>\n",
       "      <th>0</th>\n",
       "      <td>522530</td>\n",
       "      <td>003</td>\n",
       "      <td>5.000000e+08</td>\n",
       "      <td>0.000000e+00</td>\n",
       "      <td>2020-02-13</td>\n",
       "      <td>609965</td>\n",
       "      <td>2020-02-17</td>\n",
       "      <td>-1</td>\n",
       "    </tr>\n",
       "    <tr>\n",
       "      <th>1</th>\n",
       "      <td>35163</td>\n",
       "      <td>053</td>\n",
       "      <td>5.100000e+08</td>\n",
       "      <td>0.000000e+00</td>\n",
       "      <td>2020-12-15</td>\n",
       "      <td>35163</td>\n",
       "      <td>2020-12-21</td>\n",
       "      <td>-1</td>\n",
       "    </tr>\n",
       "    <tr>\n",
       "      <th>2</th>\n",
       "      <td>500873</td>\n",
       "      <td>055</td>\n",
       "      <td>5.000000e+08</td>\n",
       "      <td>0.000000e+00</td>\n",
       "      <td>2022-09-12</td>\n",
       "      <td>451262</td>\n",
       "      <td>2022-12-12</td>\n",
       "      <td>-1</td>\n",
       "    </tr>\n",
       "    <tr>\n",
       "      <th>3</th>\n",
       "      <td>ac543274a1527329</td>\n",
       "      <td>NaN</td>\n",
       "      <td>2.065440e+08</td>\n",
       "      <td>9.999570e+07</td>\n",
       "      <td>2023-04-30</td>\n",
       "      <td>ac543274a1527329</td>\n",
       "      <td>2023-04-30</td>\n",
       "      <td>560</td>\n",
       "    </tr>\n",
       "    <tr>\n",
       "      <th>4</th>\n",
       "      <td>95511</td>\n",
       "      <td>004</td>\n",
       "      <td>2.800000e+09</td>\n",
       "      <td>1.826667e+09</td>\n",
       "      <td>2022-08-11</td>\n",
       "      <td>95511</td>\n",
       "      <td>2022-08-11</td>\n",
       "      <td>822</td>\n",
       "    </tr>\n",
       "    <tr>\n",
       "      <th>...</th>\n",
       "      <td>...</td>\n",
       "      <td>...</td>\n",
       "      <td>...</td>\n",
       "      <td>...</td>\n",
       "      <td>...</td>\n",
       "      <td>...</td>\n",
       "      <td>...</td>\n",
       "      <td>...</td>\n",
       "    </tr>\n",
       "    <tr>\n",
       "      <th>543</th>\n",
       "      <td>12144992</td>\n",
       "      <td>005</td>\n",
       "      <td>1.930000e+09</td>\n",
       "      <td>1.177375e+09</td>\n",
       "      <td>2022-10-21</td>\n",
       "      <td>3382076</td>\n",
       "      <td>2022-10-21</td>\n",
       "      <td>751</td>\n",
       "    </tr>\n",
       "    <tr>\n",
       "      <th>544</th>\n",
       "      <td>553516633</td>\n",
       "      <td>063</td>\n",
       "      <td>4.600000e+08</td>\n",
       "      <td>4.227725e+08</td>\n",
       "      <td>2023-09-10</td>\n",
       "      <td>553516633</td>\n",
       "      <td>2023-09-10</td>\n",
       "      <td>427</td>\n",
       "    </tr>\n",
       "    <tr>\n",
       "      <th>545</th>\n",
       "      <td>79365</td>\n",
       "      <td>014</td>\n",
       "      <td>3.400000e+08</td>\n",
       "      <td>3.305556e+08</td>\n",
       "      <td>2023-12-26</td>\n",
       "      <td>79365</td>\n",
       "      <td>2023-12-26</td>\n",
       "      <td>320</td>\n",
       "    </tr>\n",
       "    <tr>\n",
       "      <th>546</th>\n",
       "      <td>18410</td>\n",
       "      <td>004</td>\n",
       "      <td>4.916470e+07</td>\n",
       "      <td>0.000000e+00</td>\n",
       "      <td>2019-03-04</td>\n",
       "      <td>18410</td>\n",
       "      <td>2019-03-04</td>\n",
       "      <td>-1</td>\n",
       "    </tr>\n",
       "    <tr>\n",
       "      <th>547</th>\n",
       "      <td>3304674</td>\n",
       "      <td>062</td>\n",
       "      <td>4.050000e+08</td>\n",
       "      <td>2.173209e+08</td>\n",
       "      <td>2022-02-14</td>\n",
       "      <td>3304674</td>\n",
       "      <td>2022-02-14</td>\n",
       "      <td>1000</td>\n",
       "    </tr>\n",
       "  </tbody>\n",
       "</table>\n",
       "<p>548 rows × 8 columns</p>\n",
       "</div>"
      ],
      "text/plain": [
       "          contract_id bank         summa    loan_summa claim_date  \\\n",
       "0              522530  003  5.000000e+08  0.000000e+00 2020-02-13   \n",
       "1               35163  053  5.100000e+08  0.000000e+00 2020-12-15   \n",
       "2              500873  055  5.000000e+08  0.000000e+00 2022-09-12   \n",
       "3    ac543274a1527329  NaN  2.065440e+08  9.999570e+07 2023-04-30   \n",
       "4               95511  004  2.800000e+09  1.826667e+09 2022-08-11   \n",
       "..                ...  ...           ...           ...        ...   \n",
       "543          12144992  005  1.930000e+09  1.177375e+09 2022-10-21   \n",
       "544         553516633  063  4.600000e+08  4.227725e+08 2023-09-10   \n",
       "545             79365  014  3.400000e+08  3.305556e+08 2023-12-26   \n",
       "546             18410  004  4.916470e+07  0.000000e+00 2019-03-04   \n",
       "547           3304674  062  4.050000e+08  2.173209e+08 2022-02-14   \n",
       "\n",
       "             claim_id contract_date  day_since_last_loan  \n",
       "0              609965    2020-02-17                   -1  \n",
       "1               35163    2020-12-21                   -1  \n",
       "2              451262    2022-12-12                   -1  \n",
       "3    ac543274a1527329    2023-04-30                  560  \n",
       "4               95511    2022-08-11                  822  \n",
       "..                ...           ...                  ...  \n",
       "543           3382076    2022-10-21                  751  \n",
       "544         553516633    2023-09-10                  427  \n",
       "545             79365    2023-12-26                  320  \n",
       "546             18410    2019-03-04                   -1  \n",
       "547           3304674    2022-02-14                 1000  \n",
       "\n",
       "[548 rows x 8 columns]"
      ]
     },
     "execution_count": 37,
     "metadata": {},
     "output_type": "execute_result"
    }
   ],
   "source": [
    "# final result\n",
    "loans_df"
   ]
  },
  {
   "cell_type": "code",
   "execution_count": null,
   "metadata": {},
   "outputs": [],
   "source": []
  },
  {
   "cell_type": "code",
   "execution_count": null,
   "metadata": {},
   "outputs": [],
   "source": []
  },
  {
   "cell_type": "code",
   "execution_count": null,
   "metadata": {},
   "outputs": [],
   "source": []
  }
 ],
 "metadata": {
  "kernelspec": {
   "display_name": "Python 3",
   "language": "python",
   "name": "python3"
  },
  "language_info": {
   "codemirror_mode": {
    "name": "ipython",
    "version": 3
   },
   "file_extension": ".py",
   "mimetype": "text/x-python",
   "name": "python",
   "nbconvert_exporter": "python",
   "pygments_lexer": "ipython3",
   "version": "3.8.5"
  },
  "toc": {
   "base_numbering": 1,
   "nav_menu": {},
   "number_sections": true,
   "sideBar": true,
   "skip_h1_title": false,
   "title_cell": "Table of Contents",
   "title_sidebar": "Contents",
   "toc_cell": false,
   "toc_position": {},
   "toc_section_display": true,
   "toc_window_display": false
  }
 },
 "nbformat": 4,
 "nbformat_minor": 4
}
